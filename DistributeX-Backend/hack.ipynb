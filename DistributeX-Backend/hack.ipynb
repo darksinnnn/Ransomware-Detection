{
 "cells": [
  {
   "cell_type": "code",
   "execution_count": 2,
   "metadata": {},
   "outputs": [
    {
     "name": "stdout",
     "output_type": "stream",
     "text": [
      "Test files created. Simulating ransomware behavior...\n",
      "Renamed ashish.txt to Kp6bu4pC0M.locked\n",
      "Renamed dd.txt to ttstuRjAs2.locked\n",
      "Renamed fdn.txt to Xa0k24CQPu.locked\n",
      "Renamed hello.txt to UehjzZJ8D5.locked\n",
      "Renamed hh.txt to f3Twncsr7D.locked\n",
      "Renamed hhssd.txt to cui2U9k674.locked\n",
      "Renamed iam.txt to CqR77l5y3i.locked\n",
      "Renamed sbdb.txt to l8C7S9VbFz.locked\n",
      "Renamed sdas.txt to 3qKicgQoOd.locked\n",
      "Renamed shgad.txt to HTMyWqg4yl.locked\n",
      "Renamed test.txt to i2WfaY8dOs.locked\n",
      "Renamed test_file_0.txt to GtrYLaIaLH.locked\n",
      "Renamed test_file_1.txt to nOyeSpi7qE.locked\n",
      "Renamed test_file_10.txt to qEMOYwmbja.locked\n",
      "Renamed test_file_11.txt to HXGUxWBgbj.locked\n",
      "Renamed test_file_12.txt to RYQsV7Tujn.locked\n",
      "Renamed test_file_13.txt to VM04Z7ZO1m.locked\n",
      "Renamed test_file_14.txt to 4JldoS2EUs.locked\n",
      "Renamed test_file_15.txt to flI9bWatJu.locked\n",
      "Renamed test_file_16.txt to Iz1Q4Xa4kv.locked\n",
      "Renamed test_file_17.txt to Fj7bRLqxmD.locked\n",
      "Renamed test_file_18.txt to 6bvJOROEc2.locked\n",
      "Renamed test_file_19.txt to aexZazb1mU.locked\n",
      "Renamed test_file_2.txt to wEdDLPow9L.locked\n",
      "Renamed test_file_3.txt to Pe4f7hpFkL.locked\n",
      "Renamed test_file_4.txt to PQtdAc9MLM.locked\n",
      "Renamed test_file_5.txt to WLjY2rJq0Z.locked\n",
      "Renamed test_file_6.txt to gyZYUg7b5c.locked\n",
      "Renamed test_file_7.txt to wdJ5D33m1p.locked\n",
      "Renamed test_file_8.txt to r7EoJ7Jc9P.locked\n",
      "Renamed test_file_9.txt to 2wDuWvMRTk.locked\n",
      "Renamed too.txt to mGbPDeIhFB.locked\n",
      "Simulation complete.\n"
     ]
    }
   ],
   "source": [
    "import os\n",
    "import time\n",
    "import random\n",
    "import string\n",
    "\n",
    "# Directory to simulate ransomware behavior\n",
    "target_directory = \"C:/Users/ashis/Downloads/new/Test\"  # Use the same path your detection script is monitoring\n",
    "\n",
    "# Step 1: Set up the test directory with some files\n",
    "def create_test_files(directory, num_files=20):\n",
    "    os.makedirs(directory, exist_ok=True)\n",
    "    for i in range(num_files):\n",
    "        with open(os.path.join(directory, f\"test_file_{i}.txt\"), 'w') as f:\n",
    "            f.write(\"This is a test file.\")\n",
    "\n",
    "# Step 2: Simulate ransomware behavior by renaming files quickly\n",
    "def simulate_ransomware_behavior(directory):\n",
    "    for filename in os.listdir(directory):\n",
    "        if filename.endswith(\".txt\"):\n",
    "            # Randomly generate a new \"encrypted\" filename\n",
    "            new_name = ''.join(random.choices(string.ascii_letters + string.digits, k=10)) + \".locked\"\n",
    "            src_path = os.path.join(directory, filename)\n",
    "            dst_path = os.path.join(directory, new_name)\n",
    "            \n",
    "            # Rename the file to simulate encryption behavior\n",
    "            os.rename(src_path, dst_path)\n",
    "            print(f\"Renamed {filename} to {new_name}\")\n",
    "            time.sleep(0.2)  # Add a short delay to simulate rapid changes\n",
    "\n",
    "if __name__ == \"__main__\":\n",
    "    create_test_files(target_directory)\n",
    "    print(\"Test files created. Simulating ransomware behavior...\")\n",
    "    time.sleep(2)\n",
    "    simulate_ransomware_behavior(target_directory)\n",
    "    print(\"Simulation complete.\")\n"
   ]
  }
 ],
 "metadata": {
  "kernelspec": {
   "display_name": "Python 3",
   "language": "python",
   "name": "python3"
  },
  "language_info": {
   "codemirror_mode": {
    "name": "ipython",
    "version": 3
   },
   "file_extension": ".py",
   "mimetype": "text/x-python",
   "name": "python",
   "nbconvert_exporter": "python",
   "pygments_lexer": "ipython3",
   "version": "3.12.6"
  }
 },
 "nbformat": 4,
 "nbformat_minor": 2
}
